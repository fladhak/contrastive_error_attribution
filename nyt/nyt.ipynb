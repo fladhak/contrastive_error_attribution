{
 "cells": [
  {
   "cell_type": "code",
   "execution_count": null,
   "id": "8540358b",
   "metadata": {},
   "outputs": [],
   "source": [
    "import os\n",
    "import json\n",
    "import pickle\n",
    "from sklearn.metrics import precision_recall_curve, average_precision_score, auc, roc_curve"
   ]
  },
  {
   "cell_type": "code",
   "execution_count": null,
   "id": "ce834366",
   "metadata": {},
   "outputs": [],
   "source": [
    "with open('data/nyt_data/train.json') as fin:\n",
    "    train_examples = [json.loads(line) for line in fin]"
   ]
  },
  {
   "cell_type": "code",
   "execution_count": null,
   "id": "8f716113",
   "metadata": {},
   "outputs": [],
   "source": [
    "with open('data/nyt_data/dev.json') as fin:\n",
    "    val_examples = [json.loads(line) for line in fin]"
   ]
  },
  {
   "cell_type": "code",
   "execution_count": null,
   "id": "129b02c6",
   "metadata": {},
   "outputs": [],
   "source": [
    "val_articles = [x['text'] for x in val_examples]"
   ]
  },
  {
   "cell_type": "code",
   "execution_count": null,
   "id": "2e3a0123",
   "metadata": {},
   "outputs": [],
   "source": [
    "# Load the indices of training examples inditified to contain a PERSON hallucination according to Spacy\n",
    "with open('./data/nyt_data/train_bad_inds.pk', 'rb') as fin:\n",
    "    train_bad_inds = set(pickle.load(fin))"
   ]
  },
  {
   "cell_type": "code",
   "execution_count": null,
   "id": "6341bbc4",
   "metadata": {},
   "outputs": [],
   "source": [
    "labels = [0]*len(train_examples)\n",
    "for i in train_bad_inds:\n",
    "    labels[i] = 1"
   ]
  },
  {
   "cell_type": "code",
   "execution_count": null,
   "id": "5c26a30a",
   "metadata": {},
   "outputs": [],
   "source": [
    "# Load in the generated summaries for BART model trained on the NYT data\n",
    "with open('./data/nyt_data/val_pred_summaries.pk', 'rb') as fin:\n",
    "    val_summaries = pickle.load(fin)"
   ]
  },
  {
   "cell_type": "code",
   "execution_count": null,
   "id": "080957ef",
   "metadata": {},
   "outputs": [],
   "source": [
    "# Load the indices of generated summaries inditified to contain a PERSON hallucination according to Spacy\n",
    "with open('./data/nyt_data/val_preds_bad_inds.pk', 'rb') as fin:\n",
    "    bad_preds = pickle.load(fin)"
   ]
  },
  {
   "cell_type": "code",
   "execution_count": null,
   "id": "a4ea48ef",
   "metadata": {},
   "outputs": [],
   "source": [
    "# Select 20 examples of generations containing person hallucinations\n",
    "selected = [bad_preds[1], bad_preds[2], bad_preds[3], bad_preds[9], bad_preds[6], \n",
    "            bad_preds[11], bad_preds[13], bad_preds[15], bad_preds[17], bad_preds[18], \n",
    "            bad_preds[20], bad_preds[21], bad_preds[27], bad_preds[28], bad_preds[29],\n",
    "            bad_preds[30], bad_preds[48], bad_preds[34], bad_preds[43], bad_preds[47]]"
   ]
  },
  {
   "cell_type": "code",
   "execution_count": null,
   "id": "bca2e924",
   "metadata": {},
   "outputs": [],
   "source": [
    "articles = [val_articles[i] for i in selected]\n",
    "summaries = [val_summaries[i] for i in selected]"
   ]
  },
  {
   "cell_type": "code",
   "execution_count": null,
   "id": "304e9f32",
   "metadata": {},
   "outputs": [],
   "source": [
    "summaries"
   ]
  },
  {
   "cell_type": "code",
   "execution_count": null,
   "id": "d4566780",
   "metadata": {},
   "outputs": [],
   "source": [
    "# Manually fix each of the PERSON hallucinations in the generated summaries\n",
    "fixed_summaries = []\n",
    "fixed_summaries.append('Sports of The Times column discusses outlook for women\\'s college basketball season; photo (M)')\n",
    "fixed_summaries.append('A review of Naked Angels production of David Marshall Grant play Snakebit, directed by Jace Alexander; Geoffrey Nauffts, Jodie Markell and David Alan Basche star; photo (M)')\n",
    "fixed_summaries.append('Travel article on Naples, Italy, describes sights and sounds of city\\'s Spanish Quarter and Vomero, two neighborhoods that have distinctly European flavor; photos; maps (L)')\n",
    "fixed_summaries.append('Metro Matters column discusses New York City\\'s battle to keep its many sex shops open despite new zoning laws that would force them to close down; photo (M)')\n",
    "fixed_summaries.append('A review of premiere of NBC sitcom Just Shoot Me, starring George Segal and Laura San Giacomo; photo (M)')\n",
    "fixed_summaries.append('A review of a salsa performance by Pete Rodriguez and his orchestra at Copacabana; photo (S)')\n",
    "fixed_summaries.append('A review of an instructional piano playing computer program from Voyetra Technologies; photo (S)')\n",
    "fixed_summaries.append('A review of a performance by Heath Brothers at Iridium (S)')\n",
    "fixed_summaries.append('A review of a performance by Dutch jazz improviser Misha Mengelberg at Knitting Factory (S)')\n",
    "fixed_summaries.append('A column on making crisp-roasted rack of lamb; recipe (M)')\n",
    "fixed_summaries.append('Sports of The Times column discusses performance of Cleveland Indians outfielder Tony Fernandez in victory over Baltimore Orioles in Game 7 of American League Championship Series; photo (M)')\n",
    "fixed_summaries.append('Sleeping arrangements article on being bundled up in Arctic winter gear to get to China to adopt baby from orphanage; drawing (M)')\n",
    "fixed_summaries.append('Beliefs column on whether years should be designated as BC or BCE, BCE or BCE (M)')\n",
    "fixed_summaries.append('A review of an exhibit of old hand-woven baskets at Pound Ridge Museum in Pound Ridge, NY; photos (M)')\n",
    "fixed_summaries.append('A review of Randy Newman\\'s play Faust, starring David Garrison and directed by Michael Greif, at Goodman Theater; photo (M)')\n",
    "fixed_summaries.append('A review of a concert by tenor John Aler and pianist Kenneth Merrill at Alice Tully Hall; photo (M)')\n",
    "fixed_summaries.append('A review of Amarone, Italian restaurant in Clinton section of Manhattan (M)')\n",
    "fixed_summaries.append('A review of a recital by String Sextets at Carnegie Hall; photo (M)')\n",
    "fixed_summaries.append('Travel essay on visiting emergency and emergency hospitals while traveling; drawing (M)')\n",
    "fixed_summaries.append('A review of a concert by Peter Schickele at Carnegie Hall; photo (M)')"
   ]
  },
  {
   "cell_type": "code",
   "execution_count": null,
   "id": "04b4d61c",
   "metadata": {},
   "outputs": [],
   "source": [
    "# NOTE: These examples can then be used to for comparing error attribution methods.\n",
    "# See cae_e2e.ipynb to see how to use our method for error attribution"
   ]
  },
  {
   "cell_type": "code",
   "execution_count": null,
   "id": "e67eff6f",
   "metadata": {},
   "outputs": [],
   "source": []
  },
  {
   "cell_type": "code",
   "execution_count": null,
   "id": "929c4a32",
   "metadata": {},
   "outputs": [],
   "source": [
    "# We will load in the scores from our classifier and compute the metrics\n",
    "with open('./data/classifier_distillation/train_scored.pk', 'rb') as fin:\n",
    "    scores = pickle.load(fin)"
   ]
  },
  {
   "cell_type": "code",
   "execution_count": null,
   "id": "c98480cd",
   "metadata": {},
   "outputs": [],
   "source": [
    "average_precision_score(labels, scores, average=\"samples\")*100"
   ]
  },
  {
   "cell_type": "code",
   "execution_count": null,
   "id": "676a7576",
   "metadata": {},
   "outputs": [],
   "source": [
    "fpr, tpr, thresholds = roc_curve(labels, scores, pos_label=1)\n",
    "auc(fpr, tpr)*100"
   ]
  },
  {
   "cell_type": "code",
   "execution_count": null,
   "id": "36c8ee92",
   "metadata": {},
   "outputs": [],
   "source": []
  }
 ],
 "metadata": {
  "kernelspec": {
   "display_name": "pytroch_latest",
   "language": "python",
   "name": "pytroch_latest"
  },
  "language_info": {
   "codemirror_mode": {
    "name": "ipython",
    "version": 3
   },
   "file_extension": ".py",
   "mimetype": "text/x-python",
   "name": "python",
   "nbconvert_exporter": "python",
   "pygments_lexer": "ipython3",
   "version": "3.7.10"
  }
 },
 "nbformat": 4,
 "nbformat_minor": 5
}
